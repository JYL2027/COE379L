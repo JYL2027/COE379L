{
 "cells": [
  {
   "cell_type": "code",
   "execution_count": 869,
   "id": "46533c3e-5ade-45c3-8eb7-8dfb2796e7d3",
   "metadata": {},
   "outputs": [],
   "source": [
    "import pandas as pd\n",
    "from datetime import date"
   ]
  },
  {
   "cell_type": "code",
   "execution_count": 870,
   "id": "1f22f1eb-c3fe-4b16-95f2-50bd4b49379e",
   "metadata": {},
   "outputs": [],
   "source": [
    "import matplotlib.pyplot as plt\n",
    "import seaborn as sns"
   ]
  },
  {
   "cell_type": "code",
   "execution_count": 871,
   "id": "05394d54-7454-43c0-b2d1-013efae61eb7",
   "metadata": {},
   "outputs": [
    {
     "data": {
      "text/html": [
       "<div>\n",
       "<style scoped>\n",
       "    .dataframe tbody tr th:only-of-type {\n",
       "        vertical-align: middle;\n",
       "    }\n",
       "\n",
       "    .dataframe tbody tr th {\n",
       "        vertical-align: top;\n",
       "    }\n",
       "\n",
       "    .dataframe thead th {\n",
       "        text-align: right;\n",
       "    }\n",
       "</style>\n",
       "<table border=\"1\" class=\"dataframe\">\n",
       "  <thead>\n",
       "    <tr style=\"text-align: right;\">\n",
       "      <th></th>\n",
       "      <th>Animal ID</th>\n",
       "      <th>Date of Birth</th>\n",
       "      <th>Name</th>\n",
       "      <th>DateTime</th>\n",
       "      <th>MonthYear</th>\n",
       "      <th>Outcome Type</th>\n",
       "      <th>Outcome Subtype</th>\n",
       "      <th>Animal Type</th>\n",
       "      <th>Sex upon Outcome</th>\n",
       "      <th>Age upon Outcome</th>\n",
       "      <th>Breed</th>\n",
       "      <th>Color</th>\n",
       "    </tr>\n",
       "  </thead>\n",
       "  <tbody>\n",
       "    <tr>\n",
       "      <th>0</th>\n",
       "      <td>A680855</td>\n",
       "      <td>5/25/14</td>\n",
       "      <td>NaN</td>\n",
       "      <td>2014-06-10T00:00:00-05:00</td>\n",
       "      <td>Jun-14</td>\n",
       "      <td>Transfer</td>\n",
       "      <td>Partner</td>\n",
       "      <td>Bird</td>\n",
       "      <td>Unknown</td>\n",
       "      <td>2 weeks</td>\n",
       "      <td>Duck</td>\n",
       "      <td>Yellow/Black</td>\n",
       "    </tr>\n",
       "    <tr>\n",
       "      <th>1</th>\n",
       "      <td>A680857</td>\n",
       "      <td>5/25/14</td>\n",
       "      <td>NaN</td>\n",
       "      <td>2014-06-10T00:00:00-05:00</td>\n",
       "      <td>Jun-14</td>\n",
       "      <td>Transfer</td>\n",
       "      <td>Partner</td>\n",
       "      <td>Bird</td>\n",
       "      <td>Unknown</td>\n",
       "      <td>2 weeks</td>\n",
       "      <td>Duck</td>\n",
       "      <td>Yellow/Black</td>\n",
       "    </tr>\n",
       "    <tr>\n",
       "      <th>2</th>\n",
       "      <td>A680858</td>\n",
       "      <td>5/25/14</td>\n",
       "      <td>NaN</td>\n",
       "      <td>2014-06-10T00:00:00-05:00</td>\n",
       "      <td>Jun-14</td>\n",
       "      <td>Transfer</td>\n",
       "      <td>Partner</td>\n",
       "      <td>Bird</td>\n",
       "      <td>Unknown</td>\n",
       "      <td>2 weeks</td>\n",
       "      <td>Duck</td>\n",
       "      <td>Yellow/Black</td>\n",
       "    </tr>\n",
       "    <tr>\n",
       "      <th>3</th>\n",
       "      <td>A680859</td>\n",
       "      <td>5/25/14</td>\n",
       "      <td>NaN</td>\n",
       "      <td>2014-06-10T00:00:00-05:00</td>\n",
       "      <td>Jun-14</td>\n",
       "      <td>Transfer</td>\n",
       "      <td>Partner</td>\n",
       "      <td>Bird</td>\n",
       "      <td>Unknown</td>\n",
       "      <td>2 weeks</td>\n",
       "      <td>Duck</td>\n",
       "      <td>Yellow/Black</td>\n",
       "    </tr>\n",
       "    <tr>\n",
       "      <th>4</th>\n",
       "      <td>A680860</td>\n",
       "      <td>5/25/14</td>\n",
       "      <td>NaN</td>\n",
       "      <td>2014-06-10T00:00:00-05:00</td>\n",
       "      <td>Jun-14</td>\n",
       "      <td>Transfer</td>\n",
       "      <td>Partner</td>\n",
       "      <td>Bird</td>\n",
       "      <td>Unknown</td>\n",
       "      <td>2 weeks</td>\n",
       "      <td>Duck</td>\n",
       "      <td>Yellow/Black</td>\n",
       "    </tr>\n",
       "  </tbody>\n",
       "</table>\n",
       "</div>"
      ],
      "text/plain": [
       "  Animal ID Date of Birth Name                   DateTime MonthYear  \\\n",
       "0   A680855       5/25/14  NaN  2014-06-10T00:00:00-05:00    Jun-14   \n",
       "1   A680857       5/25/14  NaN  2014-06-10T00:00:00-05:00    Jun-14   \n",
       "2   A680858       5/25/14  NaN  2014-06-10T00:00:00-05:00    Jun-14   \n",
       "3   A680859       5/25/14  NaN  2014-06-10T00:00:00-05:00    Jun-14   \n",
       "4   A680860       5/25/14  NaN  2014-06-10T00:00:00-05:00    Jun-14   \n",
       "\n",
       "  Outcome Type Outcome Subtype Animal Type Sex upon Outcome Age upon Outcome  \\\n",
       "0     Transfer         Partner        Bird          Unknown          2 weeks   \n",
       "1     Transfer         Partner        Bird          Unknown          2 weeks   \n",
       "2     Transfer         Partner        Bird          Unknown          2 weeks   \n",
       "3     Transfer         Partner        Bird          Unknown          2 weeks   \n",
       "4     Transfer         Partner        Bird          Unknown          2 weeks   \n",
       "\n",
       "  Breed         Color  \n",
       "0  Duck  Yellow/Black  \n",
       "1  Duck  Yellow/Black  \n",
       "2  Duck  Yellow/Black  \n",
       "3  Duck  Yellow/Black  \n",
       "4  Duck  Yellow/Black  "
      ]
     },
     "execution_count": 871,
     "metadata": {},
     "output_type": "execute_result"
    }
   ],
   "source": [
    "animals = pd.read_csv(\"project1.csv\")\n",
    "animals.head()"
   ]
  },
  {
   "cell_type": "code",
   "execution_count": 872,
   "id": "0f03efe2-6109-4c7b-aef1-99a2cd4595ed",
   "metadata": {},
   "outputs": [
    {
     "data": {
      "text/plain": [
       "(131165, 12)"
      ]
     },
     "execution_count": 872,
     "metadata": {},
     "output_type": "execute_result"
    }
   ],
   "source": [
    "animals.shape"
   ]
  },
  {
   "cell_type": "code",
   "execution_count": 873,
   "id": "c1e00842-497c-416f-a9cf-8cf641e3df76",
   "metadata": {},
   "outputs": [
    {
     "data": {
      "text/plain": [
       "1573980"
      ]
     },
     "execution_count": 873,
     "metadata": {},
     "output_type": "execute_result"
    }
   ],
   "source": [
    "animals.size"
   ]
  },
  {
   "cell_type": "code",
   "execution_count": 874,
   "id": "6daf32ee-38be-4bfb-a0d0-d5e87f38e144",
   "metadata": {},
   "outputs": [
    {
     "name": "stdout",
     "output_type": "stream",
     "text": [
      "<class 'pandas.core.frame.DataFrame'>\n",
      "RangeIndex: 131165 entries, 0 to 131164\n",
      "Data columns (total 12 columns):\n",
      " #   Column            Non-Null Count   Dtype \n",
      "---  ------            --------------   ----- \n",
      " 0   Animal ID         131165 non-null  object\n",
      " 1   Date of Birth     131165 non-null  object\n",
      " 2   Name              93658 non-null   object\n",
      " 3   DateTime          131165 non-null  object\n",
      " 4   MonthYear         131165 non-null  object\n",
      " 5   Outcome Type      131125 non-null  object\n",
      " 6   Outcome Subtype   65810 non-null   object\n",
      " 7   Animal Type       131165 non-null  object\n",
      " 8   Sex upon Outcome  131165 non-null  object\n",
      " 9   Age upon Outcome  131165 non-null  object\n",
      " 10  Breed             131165 non-null  object\n",
      " 11  Color             131165 non-null  object\n",
      "dtypes: object(12)\n",
      "memory usage: 12.0+ MB\n"
     ]
    },
    {
     "data": {
      "text/plain": [
       "17"
      ]
     },
     "execution_count": 874,
     "metadata": {},
     "output_type": "execute_result"
    }
   ],
   "source": [
    "# The shape of the data set is 131165 rows and 12 columns with a total size of 1,563,980 entries\n",
    "animals.info()\n",
    "animals.duplicated().sum()"
   ]
  },
  {
   "cell_type": "code",
   "execution_count": 875,
   "id": "561f1b48-2a71-4334-bc3f-1a58653b26f8",
   "metadata": {},
   "outputs": [
    {
     "data": {
      "text/plain": [
       "Animal ID               0\n",
       "Date of Birth           0\n",
       "Name                37507\n",
       "DateTime                0\n",
       "MonthYear               0\n",
       "Outcome Type           40\n",
       "Outcome Subtype     65355\n",
       "Animal Type             0\n",
       "Sex upon Outcome        0\n",
       "Age upon Outcome        0\n",
       "Breed                   0\n",
       "Color                   0\n",
       "dtype: int64"
      ]
     },
     "execution_count": 875,
     "metadata": {},
     "output_type": "execute_result"
    }
   ],
   "source": [
    "animals.isnull().sum()"
   ]
  },
  {
   "cell_type": "code",
   "execution_count": 876,
   "id": "b5427821-379e-4152-9495-e7ad2fd0da30",
   "metadata": {},
   "outputs": [],
   "source": [
    "# All of the data types are objects (strings) and need to be converted to numerical values for valuable ML results. \n",
    "# There are also 17 duplicates among the rows and thus need to be treated. \n",
    "# I would convert Date of Birth, DateTime, MonthYear by first converting to datetime. Date of Birth can be converted to age and the rest of the items can be used to extract the day, month, and year\n",
    "# Animal ID and Name don't really need to be changed and can be eliminated as all IDs are unique and Names don't help analysis to predict the Outcome Type.\n",
    "# Outcome Type, Outcome Subtype, Animal Type, Sex upon Outcome, Breed, and Color can all be converted to categorial data then use One-hot encoding. \n",
    "# Lastly, Age Upon Outcome can be stripped to only a numerical value of days so everything becomes cohesive. \n",
    "animals.drop_duplicates(inplace=True, ignore_index=True)\n",
    "animals.duplicated().sum()\n",
    "# Lastly the Animal ID column, the Name column should be eliminated as they do not add any value to the analysis as each value are unique or don't affect the analysis numerically.\n",
    "animals.drop([\"Animal ID\"], axis = 1, inplace=True)\n",
    "animals.drop([\"Name\"], axis = 1, inplace=True)"
   ]
  },
  {
   "cell_type": "code",
   "execution_count": 877,
   "id": "3015b8fd-a753-4b0b-94fe-d3d21ab5b085",
   "metadata": {},
   "outputs": [
    {
     "name": "stdout",
     "output_type": "stream",
     "text": [
      "<class 'pandas.core.frame.DataFrame'>\n",
      "RangeIndex: 131148 entries, 0 to 131147\n",
      "Data columns (total 10 columns):\n",
      " #   Column            Non-Null Count   Dtype \n",
      "---  ------            --------------   ----- \n",
      " 0   Date of Birth     131148 non-null  object\n",
      " 1   DateTime          131148 non-null  object\n",
      " 2   MonthYear         131148 non-null  object\n",
      " 3   Outcome Type      131108 non-null  object\n",
      " 4   Outcome Subtype   65802 non-null   object\n",
      " 5   Animal Type       131148 non-null  object\n",
      " 6   Sex upon Outcome  131148 non-null  object\n",
      " 7   Age upon Outcome  131148 non-null  object\n",
      " 8   Breed             131148 non-null  object\n",
      " 9   Color             131148 non-null  object\n",
      "dtypes: object(10)\n",
      "memory usage: 10.0+ MB\n"
     ]
    }
   ],
   "source": [
    "animals.info()\n"
   ]
  },
  {
   "cell_type": "code",
   "execution_count": 878,
   "id": "9fea5ea0-1efd-4051-9a8d-ad7bc09bf8a4",
   "metadata": {},
   "outputs": [],
   "source": [
    "# Now after removing duplicated rows and useless columns the data types of each column should be converted to useful values.\n",
    "# Convert DOB to datetime then solve for the age given today's date.\n",
    "animals[\"Date of Birth\"] = pd.to_datetime(animals[\"Date of Birth\"], format = '%m/%d/%y')\n",
    "def calc_age(DOB):\n",
    "    today = date.today()\n",
    "    age = today.year - DOB.year\n",
    "    return age \n",
    "animals[\"Age\"] = animals[\"Date of Birth\"].apply(calc_age)\n",
    "animals.drop(\"Date of Birth\", axis = 1, inplace=True)\n",
    "\n",
    "# Convert MonthYear to datetime then extract month and then year.\n",
    "animals[\"MonthYear\"] = pd.to_datetime(animals[\"MonthYear\"], format = \"%b-%y\")\n",
    "def extract_month(Admit_time):\n",
    "    return Admit_time.month\n",
    "def extract_year(Admit_time):\n",
    "    return Admit_time.year\n",
    "animals[\"MonthAdmit\"] = animals[\"MonthYear\"].apply(extract_month)\n",
    "animals[\"YearAdmit\"] = animals[\"MonthYear\"].apply(extract_year)\n",
    "animals.drop(\"MonthYear\", axis = 1, inplace=True)\n",
    "             \n",
    "# Convert Age upon Outcome to days for consistent format. Assume 30 days in a month, 365 days in a year.\n",
    "def convertdays(OutAge):\n",
    "    number, category = OutAge.split()\n",
    "    number = int(number)                  \n",
    "    if category == \"days\":\n",
    "        multiplier = 1\n",
    "    elif category == \"weeks\":\n",
    "        multiplier = 7\n",
    "    elif category == \"months\":\n",
    "        multiplier = 30   \n",
    "    elif category == \"years\":\n",
    "        multiplier = 365  \n",
    "    else:\n",
    "        multiplier = 0  \n",
    "    return multiplier * number\n",
    "animals[\"Age upon Outcome (Days)\"] = animals[\"Age upon Outcome\"].apply(convertdays)\n",
    "animals.drop(\"Age upon Outcome\", axis=1, inplace=True)\n",
    "\n",
    "# Convert DateTime to datetime and extract the time as well as the day since month and year were already extracted\n",
    "# Code below was generated from Chat GPT \n",
    "animals[\"DateTime\"] = pd.to_datetime(animals[\"DateTime\"], format=\"mixed\", errors=\"coerce\", utc=True).dt.tz_convert(None)   \n",
    "\n",
    "# Now extract date of admit and time since month and year was already extracted from MonthYear\n",
    "def extract_day(Admit_time):\n",
    "    return Admit_time.day\n",
    "def extract_time(Admit_time):\n",
    "    return Admit_time.time()\n",
    "animals[\"DayAdmit\"] = animals[\"DateTime\"].apply(extract_day)\n",
    "animals[\"TimeAdmit\"] = animals[\"DateTime\"].apply(extract_time)\n",
    "# Drop time as the exact time a animal is admitted is likely not going to affect the outcome type of that individual animal when compared to the year, month, or day \n",
    "animals.drop(\"TimeAdmit\", axis = 1, inplace=True)\n",
    "animals.drop(\"DateTime\", axis = 1, inplace=True)"
   ]
  },
  {
   "cell_type": "code",
   "execution_count": 879,
   "id": "09a2e739-093d-46ec-876c-8469bbac2010",
   "metadata": {},
   "outputs": [
    {
     "name": "stdout",
     "output_type": "stream",
     "text": [
      "<class 'pandas.core.frame.DataFrame'>\n",
      "RangeIndex: 131148 entries, 0 to 131147\n",
      "Data columns (total 11 columns):\n",
      " #   Column                   Non-Null Count   Dtype \n",
      "---  ------                   --------------   ----- \n",
      " 0   Outcome Type             131108 non-null  object\n",
      " 1   Outcome Subtype          65802 non-null   object\n",
      " 2   Animal Type              131148 non-null  object\n",
      " 3   Sex upon Outcome         131148 non-null  object\n",
      " 4   Breed                    131148 non-null  object\n",
      " 5   Color                    131148 non-null  object\n",
      " 6   Age                      131148 non-null  int64 \n",
      " 7   MonthAdmit               131148 non-null  int64 \n",
      " 8   YearAdmit                131148 non-null  int64 \n",
      " 9   Age upon Outcome (Days)  131148 non-null  int64 \n",
      " 10  DayAdmit                 131148 non-null  int64 \n",
      "dtypes: int64(5), object(6)\n",
      "memory usage: 11.0+ MB\n"
     ]
    },
    {
     "data": {
      "text/html": [
       "<div>\n",
       "<style scoped>\n",
       "    .dataframe tbody tr th:only-of-type {\n",
       "        vertical-align: middle;\n",
       "    }\n",
       "\n",
       "    .dataframe tbody tr th {\n",
       "        vertical-align: top;\n",
       "    }\n",
       "\n",
       "    .dataframe thead th {\n",
       "        text-align: right;\n",
       "    }\n",
       "</style>\n",
       "<table border=\"1\" class=\"dataframe\">\n",
       "  <thead>\n",
       "    <tr style=\"text-align: right;\">\n",
       "      <th></th>\n",
       "      <th>Outcome Type</th>\n",
       "      <th>Outcome Subtype</th>\n",
       "      <th>Animal Type</th>\n",
       "      <th>Sex upon Outcome</th>\n",
       "      <th>Breed</th>\n",
       "      <th>Color</th>\n",
       "      <th>Age</th>\n",
       "      <th>MonthAdmit</th>\n",
       "      <th>YearAdmit</th>\n",
       "      <th>Age upon Outcome (Days)</th>\n",
       "      <th>DayAdmit</th>\n",
       "    </tr>\n",
       "  </thead>\n",
       "  <tbody>\n",
       "    <tr>\n",
       "      <th>0</th>\n",
       "      <td>Transfer</td>\n",
       "      <td>Partner</td>\n",
       "      <td>Bird</td>\n",
       "      <td>Unknown</td>\n",
       "      <td>Duck</td>\n",
       "      <td>Yellow/Black</td>\n",
       "      <td>11</td>\n",
       "      <td>6</td>\n",
       "      <td>2014</td>\n",
       "      <td>14</td>\n",
       "      <td>10</td>\n",
       "    </tr>\n",
       "    <tr>\n",
       "      <th>1</th>\n",
       "      <td>Transfer</td>\n",
       "      <td>Partner</td>\n",
       "      <td>Bird</td>\n",
       "      <td>Unknown</td>\n",
       "      <td>Duck</td>\n",
       "      <td>Yellow/Black</td>\n",
       "      <td>11</td>\n",
       "      <td>6</td>\n",
       "      <td>2014</td>\n",
       "      <td>14</td>\n",
       "      <td>10</td>\n",
       "    </tr>\n",
       "    <tr>\n",
       "      <th>2</th>\n",
       "      <td>Transfer</td>\n",
       "      <td>Partner</td>\n",
       "      <td>Bird</td>\n",
       "      <td>Unknown</td>\n",
       "      <td>Duck</td>\n",
       "      <td>Yellow/Black</td>\n",
       "      <td>11</td>\n",
       "      <td>6</td>\n",
       "      <td>2014</td>\n",
       "      <td>14</td>\n",
       "      <td>10</td>\n",
       "    </tr>\n",
       "    <tr>\n",
       "      <th>3</th>\n",
       "      <td>Transfer</td>\n",
       "      <td>Partner</td>\n",
       "      <td>Bird</td>\n",
       "      <td>Unknown</td>\n",
       "      <td>Duck</td>\n",
       "      <td>Yellow/Black</td>\n",
       "      <td>11</td>\n",
       "      <td>6</td>\n",
       "      <td>2014</td>\n",
       "      <td>14</td>\n",
       "      <td>10</td>\n",
       "    </tr>\n",
       "    <tr>\n",
       "      <th>4</th>\n",
       "      <td>Transfer</td>\n",
       "      <td>Partner</td>\n",
       "      <td>Bird</td>\n",
       "      <td>Unknown</td>\n",
       "      <td>Duck</td>\n",
       "      <td>Yellow/Black</td>\n",
       "      <td>11</td>\n",
       "      <td>6</td>\n",
       "      <td>2014</td>\n",
       "      <td>14</td>\n",
       "      <td>10</td>\n",
       "    </tr>\n",
       "  </tbody>\n",
       "</table>\n",
       "</div>"
      ],
      "text/plain": [
       "  Outcome Type Outcome Subtype Animal Type Sex upon Outcome Breed  \\\n",
       "0     Transfer         Partner        Bird          Unknown  Duck   \n",
       "1     Transfer         Partner        Bird          Unknown  Duck   \n",
       "2     Transfer         Partner        Bird          Unknown  Duck   \n",
       "3     Transfer         Partner        Bird          Unknown  Duck   \n",
       "4     Transfer         Partner        Bird          Unknown  Duck   \n",
       "\n",
       "          Color  Age  MonthAdmit  YearAdmit  Age upon Outcome (Days)  DayAdmit  \n",
       "0  Yellow/Black   11           6       2014                       14        10  \n",
       "1  Yellow/Black   11           6       2014                       14        10  \n",
       "2  Yellow/Black   11           6       2014                       14        10  \n",
       "3  Yellow/Black   11           6       2014                       14        10  \n",
       "4  Yellow/Black   11           6       2014                       14        10  "
      ]
     },
     "execution_count": 879,
     "metadata": {},
     "output_type": "execute_result"
    }
   ],
   "source": [
    "animals.info()\n",
    "animals.head()"
   ]
  },
  {
   "cell_type": "code",
   "execution_count": 880,
   "id": "8c951a39-206a-4981-962a-b04bfb21c417",
   "metadata": {},
   "outputs": [
    {
     "data": {
      "text/plain": [
       "<function matplotlib.pyplot.show(close=None, block=None)>"
      ]
     },
     "execution_count": 880,
     "metadata": {},
     "output_type": "execute_result"
    },
    {
     "data": {
      "image/png": "[encoded data removed]",
      "text/plain": [
       "<Figure size 640x480 with 1 Axes>"
      ]
     },
     "metadata": {},
     "output_type": "display_data"
    }
   ],
   "source": [
    "# Before I One-hot Encode my categorical data I will apply univariate analysis\n",
    "# Now I will convert everything else into categorical data while replacing missing values\\\n",
    "# To replace missing data I will group animals of the same type for replacing missing data with the mode\n",
    "\n",
    "# Since problem part 2 stated to drop breed I will do it heer\n",
    "animals.drop(\"Breed\", axis = 1, inplace = True)\n",
    "\n",
    "animals['Outcome Type'] = animals.groupby(['Animal Type'])['Outcome Type'].transform(lambda x: x.fillna(x.mode()[0] if not x.mode().empty else 'Unknown'))\n",
    "animals['Outcome Type'] = animals['Outcome Type'].astype('category') \n",
    "animals['Outcome Subtype'] = animals.groupby(['Animal Type'])['Outcome Subtype'].transform(lambda x: x.fillna(x.mode()[0] if not x.mode().empty else 'Unknown'))\n",
    "animals['Outcome Subtype'] = animals['Outcome Subtype'].astype('category')\n",
    "animals['Color'] = animals['Color'].astype('category')\n",
    "animals['Animal Type'] = animals['Animal Type'].astype('category')\n",
    "\n",
    "# I am skipping Color because there are so many entries and cannot be visualized well\n",
    "sns.countplot(x=animals['Outcome Subtype'])\n",
    "plt.xticks(rotation=45, ha='right')\n",
    "plt.show"
   ]
  },
  {
   "cell_type": "code",
   "execution_count": 881,
   "id": "404016de-f589-450e-aa34-ac03a2943614",
   "metadata": {},
   "outputs": [
    {
     "data": {
      "text/plain": [
       "<function matplotlib.pyplot.show(close=None, block=None)>"
      ]
     },
     "execution_count": 881,
     "metadata": {},
     "output_type": "execute_result"
    },
    {
     "data": {
      "image/png": "[encoded data removed]",
      "text/plain": [
       "<Figure size 640x480 with 1 Axes>"
      ]
     },
     "metadata": {},
     "output_type": "display_data"
    }
   ],
   "source": [
    "# In the Outcome Subtype count plot I can see that a majority of the animals were able to find a partner and most found a foster. However there are very few animals who have the other outcome subtypes. \n",
    "sns.countplot(x=animals['Outcome Type'])\n",
    "plt.xticks(rotation=45, ha='right')\n",
    "plt.show\n"
   ]
  },
  {
   "cell_type": "code",
   "execution_count": 882,
   "id": "b59676c2-6f2d-4997-8d2d-685b50b3fc35",
   "metadata": {},
   "outputs": [
    {
     "data": {
      "text/plain": [
       "<function matplotlib.pyplot.show(close=None, block=None)>"
      ]
     },
     "execution_count": 882,
     "metadata": {},
     "output_type": "execute_result"
    },
    {
     "data": {
      "image/png": "[encoded data removed]",
      "text/plain": [
       "<Figure size 640x480 with 1 Axes>"
      ]
     },
     "metadata": {},
     "output_type": "display_data"
    }
   ],
   "source": [
    "# The Outcome Type count plot shows that the amount of Adoptions is almost double the amount of transfers showign that most animals do get adopted.\n",
    "sns.countplot(x=animals['Animal Type'])\n",
    "plt.xticks(rotation=45, ha='right')\n",
    "plt.show"
   ]
  },
  {
   "cell_type": "code",
   "execution_count": 883,
   "id": "eec7c743-5435-4b18-87c7-559ac48141a5",
   "metadata": {},
   "outputs": [],
   "source": [
    "# For the Animal Type coutplot we can see that most of the animals in the shelter are either cats or dogs. There are no livestock and very few birds.\n",
    "\n",
    "# Here I will apply One-hot encoding to the data\n",
    "animals = pd.get_dummies(animals, columns=['Outcome Type'], drop_first=True)\n",
    "\n",
    "animals = pd.get_dummies(animals, columns=['Outcome Subtype'], drop_first=True)\n",
    "\n",
    "# Breed is not included as it is stated in part 2 to drop the column\n",
    "categorical_cols = ['Animal Type', 'Sex upon Outcome', 'Color']\n",
    "for column in categorical_cols:\n",
    "    animals = pd.get_dummies(animals, columns=[column], drop_first=True)"
   ]
  },
  {
   "cell_type": "code",
   "execution_count": 884,
   "id": "7ceba259-3fb5-4fa6-ada7-6c90bf959843",
   "metadata": {},
   "outputs": [
    {
     "name": "stdout",
     "output_type": "stream",
     "text": [
      "<class 'pandas.core.frame.DataFrame'>\n",
      "RangeIndex: 131148 entries, 0 to 131147\n",
      "Columns: 619 entries, Age to Color_Yellow/Yellow\n",
      "dtypes: bool(614), int64(5)\n",
      "memory usage: 81.8 MB\n"
     ]
    },
    {
     "data": {
      "text/plain": [
       "Age                          0\n",
       "MonthAdmit                   0\n",
       "YearAdmit                    0\n",
       "Age upon Outcome (Days)      0\n",
       "DayAdmit                     0\n",
       "                            ..\n",
       "Color_Yellow/Orange Tabby    0\n",
       "Color_Yellow/Red             0\n",
       "Color_Yellow/Tan             0\n",
       "Color_Yellow/White           0\n",
       "Color_Yellow/Yellow          0\n",
       "Length: 619, dtype: int64"
      ]
     },
     "execution_count": 884,
     "metadata": {},
     "output_type": "execute_result"
    }
   ],
   "source": [
    "animals.info()\n",
    "animals.isnull().sum()"
   ]
  },
  {
   "cell_type": "code",
   "execution_count": 885,
   "id": "98ad4b4a-87b8-45a5-be63-e4f6f1084464",
   "metadata": {},
   "outputs": [
    {
     "data": {
      "text/html": [
       "<div>\n",
       "<style scoped>\n",
       "    .dataframe tbody tr th:only-of-type {\n",
       "        vertical-align: middle;\n",
       "    }\n",
       "\n",
       "    .dataframe tbody tr th {\n",
       "        vertical-align: top;\n",
       "    }\n",
       "\n",
       "    .dataframe thead th {\n",
       "        text-align: right;\n",
       "    }\n",
       "</style>\n",
       "<table border=\"1\" class=\"dataframe\">\n",
       "  <thead>\n",
       "    <tr style=\"text-align: right;\">\n",
       "      <th></th>\n",
       "      <th>Age</th>\n",
       "      <th>MonthAdmit</th>\n",
       "      <th>YearAdmit</th>\n",
       "      <th>Age upon Outcome (Days)</th>\n",
       "      <th>DayAdmit</th>\n",
       "    </tr>\n",
       "  </thead>\n",
       "  <tbody>\n",
       "    <tr>\n",
       "      <th>count</th>\n",
       "      <td>131148.000000</td>\n",
       "      <td>131148.000000</td>\n",
       "      <td>131148.000000</td>\n",
       "      <td>131148.000000</td>\n",
       "      <td>131148.000000</td>\n",
       "    </tr>\n",
       "    <tr>\n",
       "      <th>mean</th>\n",
       "      <td>8.040245</td>\n",
       "      <td>6.755856</td>\n",
       "      <td>2018.587344</td>\n",
       "      <td>518.183998</td>\n",
       "      <td>15.868103</td>\n",
       "    </tr>\n",
       "    <tr>\n",
       "      <th>std</th>\n",
       "      <td>4.195992</td>\n",
       "      <td>3.332563</td>\n",
       "      <td>3.318297</td>\n",
       "      <td>900.018042</td>\n",
       "      <td>8.797603</td>\n",
       "    </tr>\n",
       "    <tr>\n",
       "      <th>min</th>\n",
       "      <td>0.000000</td>\n",
       "      <td>1.000000</td>\n",
       "      <td>2013.000000</td>\n",
       "      <td>0.000000</td>\n",
       "      <td>1.000000</td>\n",
       "    </tr>\n",
       "    <tr>\n",
       "      <th>25%</th>\n",
       "      <td>5.000000</td>\n",
       "      <td>4.000000</td>\n",
       "      <td>2016.000000</td>\n",
       "      <td>14.000000</td>\n",
       "      <td>8.000000</td>\n",
       "    </tr>\n",
       "    <tr>\n",
       "      <th>50%</th>\n",
       "      <td>8.000000</td>\n",
       "      <td>7.000000</td>\n",
       "      <td>2018.000000</td>\n",
       "      <td>90.000000</td>\n",
       "      <td>16.000000</td>\n",
       "    </tr>\n",
       "    <tr>\n",
       "      <th>75%</th>\n",
       "      <td>11.000000</td>\n",
       "      <td>10.000000</td>\n",
       "      <td>2021.000000</td>\n",
       "      <td>730.000000</td>\n",
       "      <td>23.000000</td>\n",
       "    </tr>\n",
       "    <tr>\n",
       "      <th>max</th>\n",
       "      <td>34.000000</td>\n",
       "      <td>12.000000</td>\n",
       "      <td>2025.000000</td>\n",
       "      <td>10950.000000</td>\n",
       "      <td>31.000000</td>\n",
       "    </tr>\n",
       "  </tbody>\n",
       "</table>\n",
       "</div>"
      ],
      "text/plain": [
       "                 Age     MonthAdmit      YearAdmit  Age upon Outcome (Days)  \\\n",
       "count  131148.000000  131148.000000  131148.000000            131148.000000   \n",
       "mean        8.040245       6.755856    2018.587344               518.183998   \n",
       "std         4.195992       3.332563       3.318297               900.018042   \n",
       "min         0.000000       1.000000    2013.000000                 0.000000   \n",
       "25%         5.000000       4.000000    2016.000000                14.000000   \n",
       "50%         8.000000       7.000000    2018.000000                90.000000   \n",
       "75%        11.000000      10.000000    2021.000000               730.000000   \n",
       "max        34.000000      12.000000    2025.000000             10950.000000   \n",
       "\n",
       "            DayAdmit  \n",
       "count  131148.000000  \n",
       "mean       15.868103  \n",
       "std         8.797603  \n",
       "min         1.000000  \n",
       "25%         8.000000  \n",
       "50%        16.000000  \n",
       "75%        23.000000  \n",
       "max        31.000000  "
      ]
     },
     "execution_count": 885,
     "metadata": {},
     "output_type": "execute_result"
    }
   ],
   "source": [
    "# Beginning the univariate analysis\n",
    "animals.describe()"
   ]
  },
  {
   "cell_type": "code",
   "execution_count": 886,
   "id": "760380d4-fbd8-43a5-9ec7-053c3f761102",
   "metadata": {},
   "outputs": [
    {
     "data": {
      "text/plain": [
       "<Axes: xlabel='Age upon Outcome (Days)', ylabel='Count'>"
      ]
     },
     "execution_count": 886,
     "metadata": {},
     "output_type": "execute_result"
    },
    {
     "data": {
      "image/png": "[encoded data removed]",
      "text/plain": [
       "<Figure size 640x480 with 1 Axes>"
      ]
     },
     "metadata": {},
     "output_type": "display_data"
    }
   ],
   "source": [
    "# In the analysis above we can see that in the Age upon Outcome column there is a significant outlier in the max which deviates heavily from the mean. Moreover the standard deviation is immensily high. \n",
    "# The average month admitted is around the end of June and we can see that a majority of animals admitted were admitted in the year 2021 or before with a average of 2018. \n",
    "# Another significant feature is that the average day admit is in the middle of the month around the 15th or 16th day. \n",
    "# In the Age section there exists a outlier in the maximum age admitted which is 34 years old. This deviates heavily from the mean and is certainly a rare occurance. \n",
    "sns.histplot(data = animals['Age upon Outcome (Days)'], bins = 8)"
   ]
  },
  {
   "cell_type": "code",
   "execution_count": 887,
   "id": "49ee7872-48eb-4e75-8a34-339dab42db7e",
   "metadata": {},
   "outputs": [
    {
     "data": {
      "text/plain": [
       "<Axes: xlabel='Age upon Outcome (Days)'>"
      ]
     },
     "execution_count": 887,
     "metadata": {},
     "output_type": "execute_result"
    },
    {
     "data": {
      "image/png": "[encoded data removed]",
      "text/plain": [
       "<Figure size 640x480 with 1 Axes>"
      ]
     },
     "metadata": {},
     "output_type": "display_data"
    }
   ],
   "source": [
    "# As we can see in the plot above a majority of the Age upon Outcomes are within the 0 - 2000 range with outliers reaching a extreme outlier at 6000.\n",
    "sns.boxplot(data=animals, x='Age upon Outcome (Days)')"
   ]
  },
  {
   "cell_type": "code",
   "execution_count": 888,
   "id": "346742e8-9807-47e4-835b-76bdab3dd5c4",
   "metadata": {},
   "outputs": [
    {
     "data": {
      "text/plain": [
       "<Axes: xlabel='Age'>"
      ]
     },
     "execution_count": 888,
     "metadata": {},
     "output_type": "execute_result"
    },
    {
     "data": {
      "image/png": "[encoded data removed]",
      "text/plain": [
       "<Figure size 640x480 with 1 Axes>"
      ]
     },
     "metadata": {},
     "output_type": "display_data"
    }
   ],
   "source": [
    "# Using a histogram we get a even better view of the distribution. We see that there are many outliers here which are above the extreme and is skewed towards the lower end of the spectrum. \n",
    "sns.boxplot(data=animals, x='Age')"
   ]
  },
  {
   "cell_type": "code",
   "execution_count": 889,
   "id": "3918ffb0-bf10-475a-b28c-583882c30699",
   "metadata": {},
   "outputs": [
    {
     "data": {
      "text/plain": [
       "<Axes: xlabel='MonthAdmit'>"
      ]
     },
     "execution_count": 889,
     "metadata": {},
     "output_type": "execute_result"
    },
    {
     "data": {
      "image/png": "[encoded data removed]",
      "text/plain": [
       "<Figure size 640x480 with 1 Axes>"
      ]
     },
     "metadata": {},
     "output_type": "display_data"
    }
   ],
   "source": [
    "# Taking a look at the histogram for the age of the admits the data is skewed to the left, with many outliers past the 20 year old age mark. A mojority of the age however is concentrated in the 5 to 12 age range. \n",
    "sns.boxplot(data=animals, x='MonthAdmit')"
   ]
  },
  {
   "cell_type": "code",
   "execution_count": 890,
   "id": "4644d88c-0680-4ec4-abcb-e48a8fc3368c",
   "metadata": {},
   "outputs": [],
   "source": [
    "# Taking a look at the boxplot of the MonthAdmit we can see a fairly normal distribution with no outliers. This distribution shows that around the middle part of the year is when most animals are admitted to the shelter. \n",
    "# This could be because around the new years people buy pets and around the middle of the year they realized they aren't capable of taking care of the pets and near the holidays they are less inclined to admit animals to shelters due to the holiday spirit."
   ]
  },
  {
   "cell_type": "code",
   "execution_count": null,
   "id": "789da49a-6d45-4b3e-9711-5a43b3d239bb",
   "metadata": {},
   "outputs": [],
   "source": []
  }
 ],
 "metadata": {
  "kernelspec": {
   "display_name": "Python 3 (ipykernel)",
   "language": "python",
   "name": "python3"
  },
  "language_info": {
   "codemirror_mode": {
    "name": "ipython",
    "version": 3
   },
   "file_extension": ".py",
   "mimetype": "text/x-python",
   "name": "python",
   "nbconvert_exporter": "python",
   "pygments_lexer": "ipython3",
   "version": "3.11.1"
  }
 },
 "nbformat": 4,
 "nbformat_minor": 5
}
