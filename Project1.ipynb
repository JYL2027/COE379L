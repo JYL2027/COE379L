{
 "cells": [
  {
   "cell_type": "code",
   "execution_count": 1,
   "id": "46533c3e-5ade-45c3-8eb7-8dfb2796e7d3",
   "metadata": {},
   "outputs": [
    {
     "name": "stderr",
     "output_type": "stream",
     "text": [
      "/tmp/ipykernel_5253/4080736814.py:1: DeprecationWarning: \n",
      "Pyarrow will become a required dependency of pandas in the next major release of pandas (pandas 3.0),\n",
      "(to allow more performant data types, such as the Arrow string type, and better interoperability with other libraries)\n",
      "but was not found to be installed on your system.\n",
      "If this would cause problems for you,\n",
      "please provide us feedback at https://github.com/pandas-dev/pandas/issues/54466\n",
      "        \n",
      "  import pandas as pd\n"
     ]
    }
   ],
   "source": [
    "import pandas as pd"
   ]
  },
  {
   "cell_type": "code",
   "execution_count": 51,
   "id": "1f22f1eb-c3fe-4b16-95f2-50bd4b49379e",
   "metadata": {},
   "outputs": [],
   "source": [
    "import matplotlib.pyplot as plt\n",
    "import seaborn as sns"
   ]
  },
  {
   "cell_type": "code",
   "execution_count": 18,
   "id": "05394d54-7454-43c0-b2d1-013efae61eb7",
   "metadata": {},
   "outputs": [
    {
     "data": {
      "text/html": [
       "<div>\n",
       "<style scoped>\n",
       "    .dataframe tbody tr th:only-of-type {\n",
       "        vertical-align: middle;\n",
       "    }\n",
       "\n",
       "    .dataframe tbody tr th {\n",
       "        vertical-align: top;\n",
       "    }\n",
       "\n",
       "    .dataframe thead th {\n",
       "        text-align: right;\n",
       "    }\n",
       "</style>\n",
       "<table border=\"1\" class=\"dataframe\">\n",
       "  <thead>\n",
       "    <tr style=\"text-align: right;\">\n",
       "      <th></th>\n",
       "      <th>Animal ID</th>\n",
       "      <th>Date of Birth</th>\n",
       "      <th>Name</th>\n",
       "      <th>DateTime</th>\n",
       "      <th>MonthYear</th>\n",
       "      <th>Outcome Type</th>\n",
       "      <th>Outcome Subtype</th>\n",
       "      <th>Animal Type</th>\n",
       "      <th>Sex upon Outcome</th>\n",
       "      <th>Age upon Outcome</th>\n",
       "      <th>Breed</th>\n",
       "      <th>Color</th>\n",
       "    </tr>\n",
       "  </thead>\n",
       "  <tbody>\n",
       "    <tr>\n",
       "      <th>0</th>\n",
       "      <td>A680855</td>\n",
       "      <td>5/25/14</td>\n",
       "      <td>NaN</td>\n",
       "      <td>2014-06-10T00:00:00-05:00</td>\n",
       "      <td>Jun-14</td>\n",
       "      <td>Transfer</td>\n",
       "      <td>Partner</td>\n",
       "      <td>Bird</td>\n",
       "      <td>Unknown</td>\n",
       "      <td>2 weeks</td>\n",
       "      <td>Duck</td>\n",
       "      <td>Yellow/Black</td>\n",
       "    </tr>\n",
       "    <tr>\n",
       "      <th>1</th>\n",
       "      <td>A680857</td>\n",
       "      <td>5/25/14</td>\n",
       "      <td>NaN</td>\n",
       "      <td>2014-06-10T00:00:00-05:00</td>\n",
       "      <td>Jun-14</td>\n",
       "      <td>Transfer</td>\n",
       "      <td>Partner</td>\n",
       "      <td>Bird</td>\n",
       "      <td>Unknown</td>\n",
       "      <td>2 weeks</td>\n",
       "      <td>Duck</td>\n",
       "      <td>Yellow/Black</td>\n",
       "    </tr>\n",
       "    <tr>\n",
       "      <th>2</th>\n",
       "      <td>A680858</td>\n",
       "      <td>5/25/14</td>\n",
       "      <td>NaN</td>\n",
       "      <td>2014-06-10T00:00:00-05:00</td>\n",
       "      <td>Jun-14</td>\n",
       "      <td>Transfer</td>\n",
       "      <td>Partner</td>\n",
       "      <td>Bird</td>\n",
       "      <td>Unknown</td>\n",
       "      <td>2 weeks</td>\n",
       "      <td>Duck</td>\n",
       "      <td>Yellow/Black</td>\n",
       "    </tr>\n",
       "    <tr>\n",
       "      <th>3</th>\n",
       "      <td>A680859</td>\n",
       "      <td>5/25/14</td>\n",
       "      <td>NaN</td>\n",
       "      <td>2014-06-10T00:00:00-05:00</td>\n",
       "      <td>Jun-14</td>\n",
       "      <td>Transfer</td>\n",
       "      <td>Partner</td>\n",
       "      <td>Bird</td>\n",
       "      <td>Unknown</td>\n",
       "      <td>2 weeks</td>\n",
       "      <td>Duck</td>\n",
       "      <td>Yellow/Black</td>\n",
       "    </tr>\n",
       "    <tr>\n",
       "      <th>4</th>\n",
       "      <td>A680860</td>\n",
       "      <td>5/25/14</td>\n",
       "      <td>NaN</td>\n",
       "      <td>2014-06-10T00:00:00-05:00</td>\n",
       "      <td>Jun-14</td>\n",
       "      <td>Transfer</td>\n",
       "      <td>Partner</td>\n",
       "      <td>Bird</td>\n",
       "      <td>Unknown</td>\n",
       "      <td>2 weeks</td>\n",
       "      <td>Duck</td>\n",
       "      <td>Yellow/Black</td>\n",
       "    </tr>\n",
       "  </tbody>\n",
       "</table>\n",
       "</div>"
      ],
      "text/plain": [
       "  Animal ID Date of Birth Name                   DateTime MonthYear  \\\n",
       "0   A680855       5/25/14  NaN  2014-06-10T00:00:00-05:00    Jun-14   \n",
       "1   A680857       5/25/14  NaN  2014-06-10T00:00:00-05:00    Jun-14   \n",
       "2   A680858       5/25/14  NaN  2014-06-10T00:00:00-05:00    Jun-14   \n",
       "3   A680859       5/25/14  NaN  2014-06-10T00:00:00-05:00    Jun-14   \n",
       "4   A680860       5/25/14  NaN  2014-06-10T00:00:00-05:00    Jun-14   \n",
       "\n",
       "  Outcome Type Outcome Subtype Animal Type Sex upon Outcome Age upon Outcome  \\\n",
       "0     Transfer         Partner        Bird          Unknown          2 weeks   \n",
       "1     Transfer         Partner        Bird          Unknown          2 weeks   \n",
       "2     Transfer         Partner        Bird          Unknown          2 weeks   \n",
       "3     Transfer         Partner        Bird          Unknown          2 weeks   \n",
       "4     Transfer         Partner        Bird          Unknown          2 weeks   \n",
       "\n",
       "  Breed         Color  \n",
       "0  Duck  Yellow/Black  \n",
       "1  Duck  Yellow/Black  \n",
       "2  Duck  Yellow/Black  \n",
       "3  Duck  Yellow/Black  \n",
       "4  Duck  Yellow/Black  "
      ]
     },
     "execution_count": 18,
     "metadata": {},
     "output_type": "execute_result"
    }
   ],
   "source": [
    "animals = pd.read_csv(\"project1.csv\")\n",
    "animals.head()"
   ]
  },
  {
   "cell_type": "code",
   "execution_count": 19,
   "id": "0f03efe2-6109-4c7b-aef1-99a2cd4595ed",
   "metadata": {},
   "outputs": [
    {
     "data": {
      "text/plain": [
       "(131165, 12)"
      ]
     },
     "execution_count": 19,
     "metadata": {},
     "output_type": "execute_result"
    }
   ],
   "source": [
    "animals.shape"
   ]
  },
  {
   "cell_type": "code",
   "execution_count": 20,
   "id": "c1e00842-497c-416f-a9cf-8cf641e3df76",
   "metadata": {},
   "outputs": [
    {
     "data": {
      "text/plain": [
       "1573980"
      ]
     },
     "execution_count": 20,
     "metadata": {},
     "output_type": "execute_result"
    }
   ],
   "source": [
    "animals.size"
   ]
  },
  {
   "cell_type": "code",
   "execution_count": 45,
   "id": "6daf32ee-38be-4bfb-a0d0-d5e87f38e144",
   "metadata": {},
   "outputs": [
    {
     "name": "stdout",
     "output_type": "stream",
     "text": [
      "<class 'pandas.core.frame.DataFrame'>\n",
      "RangeIndex: 131165 entries, 0 to 131164\n",
      "Data columns (total 12 columns):\n",
      " #   Column            Non-Null Count   Dtype \n",
      "---  ------            --------------   ----- \n",
      " 0   Animal ID         131165 non-null  object\n",
      " 1   Date of Birth     131165 non-null  object\n",
      " 2   Name              93658 non-null   object\n",
      " 3   DateTime          131165 non-null  object\n",
      " 4   MonthYear         131165 non-null  object\n",
      " 5   Outcome Type      131125 non-null  object\n",
      " 6   Outcome Subtype   65810 non-null   object\n",
      " 7   Animal Type       131165 non-null  object\n",
      " 8   Sex upon Outcome  131165 non-null  object\n",
      " 9   Age upon Outcome  131165 non-null  object\n",
      " 10  Breed             131165 non-null  object\n",
      " 11  Color             131165 non-null  object\n",
      "dtypes: object(12)\n",
      "memory usage: 12.0+ MB\n"
     ]
    },
    {
     "data": {
      "text/plain": [
       "17"
      ]
     },
     "execution_count": 45,
     "metadata": {},
     "output_type": "execute_result"
    }
   ],
   "source": [
    "animals.info()\n",
    "animals.duplicated().sum()"
   ]
  },
  {
   "cell_type": "code",
   "execution_count": 46,
   "id": "561f1b48-2a71-4334-bc3f-1a58653b26f8",
   "metadata": {},
   "outputs": [
    {
     "data": {
      "text/plain": [
       "Animal ID               0\n",
       "Date of Birth           0\n",
       "Name                37507\n",
       "DateTime                0\n",
       "MonthYear               0\n",
       "Outcome Type           40\n",
       "Outcome Subtype     65355\n",
       "Animal Type             0\n",
       "Sex upon Outcome        0\n",
       "Age upon Outcome        0\n",
       "Breed                   0\n",
       "Color                   0\n",
       "dtype: int64"
      ]
     },
     "execution_count": 46,
     "metadata": {},
     "output_type": "execute_result"
    }
   ],
   "source": [
    "animals.isnull().sum()"
   ]
  },
  {
   "cell_type": "code",
   "execution_count": 61,
   "id": "b5427821-379e-4152-9495-e7ad2fd0da30",
   "metadata": {},
   "outputs": [],
   "source": [
    "#All of the data types are objects and likely need to be converted to numerical values for valuable ML results. \n",
    "#There are also 17 duplicates among the rows and thus need to be treated. I would convery Date of Birth, DateTime, MonthYear into datetime format. Animal ID doesnt really need to be changed and can be eliminated as all IDs are unique.\n",
    "#Outcome Type, Outcome Subtype, Animal Type, Sex upon Outcome, Breed, and Color can be converted to categorial using One-hot encoding. Lastly, Age Upon Outcome can be stripped to only the numerical value. \n",
    "animals.drop_duplicates(inplace=True, ignore_index=True)\n",
    "animals.duplicated().sum()\n",
    "#Lastly the Animal ID column, the Name column should be eliminated as they do not add any value to the analysis as each value are unique or don't affect the analysis numerically.\n",
    "animals.drop([\"Animal ID\"], axis = 1, inplace=True)\n",
    "animals.drop([\"Name\"], axis = 1, inplace=True)"
   ]
  },
  {
   "cell_type": "code",
   "execution_count": 62,
   "id": "3015b8fd-a753-4b0b-94fe-d3d21ab5b085",
   "metadata": {},
   "outputs": [
    {
     "name": "stdout",
     "output_type": "stream",
     "text": [
      "<class 'pandas.core.frame.DataFrame'>\n",
      "RangeIndex: 131148 entries, 0 to 131147\n",
      "Data columns (total 10 columns):\n",
      " #   Column            Non-Null Count   Dtype \n",
      "---  ------            --------------   ----- \n",
      " 0   Date of Birth     131148 non-null  object\n",
      " 1   DateTime          131148 non-null  object\n",
      " 2   MonthYear         131148 non-null  object\n",
      " 3   Outcome Type      131108 non-null  object\n",
      " 4   Outcome Subtype   65802 non-null   object\n",
      " 5   Animal Type       131148 non-null  object\n",
      " 6   Sex upon Outcome  131148 non-null  object\n",
      " 7   Age upon Outcome  131148 non-null  object\n",
      " 8   Breed             131148 non-null  object\n",
      " 9   Color             131148 non-null  object\n",
      "dtypes: object(10)\n",
      "memory usage: 10.0+ MB\n"
     ]
    }
   ],
   "source": [
    "animals.info()"
   ]
  },
  {
   "cell_type": "code",
   "execution_count": null,
   "id": "9fea5ea0-1efd-4051-9a8d-ad7bc09bf8a4",
   "metadata": {},
   "outputs": [],
   "source": [
    "#Now after removing duplicated rows and useless columns the data types of eac"
   ]
  }
 ],
 "metadata": {
  "kernelspec": {
   "display_name": "Python 3 (ipykernel)",
   "language": "python",
   "name": "python3"
  },
  "language_info": {
   "codemirror_mode": {
    "name": "ipython",
    "version": 3
   },
   "file_extension": ".py",
   "mimetype": "text/x-python",
   "name": "python",
   "nbconvert_exporter": "python",
   "pygments_lexer": "ipython3",
   "version": "3.11.1"
  }
 },
 "nbformat": 4,
 "nbformat_minor": 5
}
