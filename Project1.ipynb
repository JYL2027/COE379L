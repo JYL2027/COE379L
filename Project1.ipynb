{
 "cells": [
  {
   "cell_type": "code",
   "execution_count": 454,
   "id": "46533c3e-5ade-45c3-8eb7-8dfb2796e7d3",
   "metadata": {},
   "outputs": [],
   "source": [
    "import pandas as pd\n",
    "from datetime import date"
   ]
  },
  {
   "cell_type": "code",
   "execution_count": 455,
   "id": "1f22f1eb-c3fe-4b16-95f2-50bd4b49379e",
   "metadata": {},
   "outputs": [],
   "source": [
    "import matplotlib.pyplot as plt\n",
    "import seaborn as sns"
   ]
  },
  {
   "cell_type": "code",
   "execution_count": 456,
   "id": "05394d54-7454-43c0-b2d1-013efae61eb7",
   "metadata": {},
   "outputs": [
    {
     "data": {
      "text/html": [
       "<div>\n",
       "<style scoped>\n",
       "    .dataframe tbody tr th:only-of-type {\n",
       "        vertical-align: middle;\n",
       "    }\n",
       "\n",
       "    .dataframe tbody tr th {\n",
       "        vertical-align: top;\n",
       "    }\n",
       "\n",
       "    .dataframe thead th {\n",
       "        text-align: right;\n",
       "    }\n",
       "</style>\n",
       "<table border=\"1\" class=\"dataframe\">\n",
       "  <thead>\n",
       "    <tr style=\"text-align: right;\">\n",
       "      <th></th>\n",
       "      <th>Animal ID</th>\n",
       "      <th>Date of Birth</th>\n",
       "      <th>Name</th>\n",
       "      <th>DateTime</th>\n",
       "      <th>MonthYear</th>\n",
       "      <th>Outcome Type</th>\n",
       "      <th>Outcome Subtype</th>\n",
       "      <th>Animal Type</th>\n",
       "      <th>Sex upon Outcome</th>\n",
       "      <th>Age upon Outcome</th>\n",
       "      <th>Breed</th>\n",
       "      <th>Color</th>\n",
       "    </tr>\n",
       "  </thead>\n",
       "  <tbody>\n",
       "    <tr>\n",
       "      <th>0</th>\n",
       "      <td>A680855</td>\n",
       "      <td>5/25/14</td>\n",
       "      <td>NaN</td>\n",
       "      <td>2014-06-10T00:00:00-05:00</td>\n",
       "      <td>Jun-14</td>\n",
       "      <td>Transfer</td>\n",
       "      <td>Partner</td>\n",
       "      <td>Bird</td>\n",
       "      <td>Unknown</td>\n",
       "      <td>2 weeks</td>\n",
       "      <td>Duck</td>\n",
       "      <td>Yellow/Black</td>\n",
       "    </tr>\n",
       "    <tr>\n",
       "      <th>1</th>\n",
       "      <td>A680857</td>\n",
       "      <td>5/25/14</td>\n",
       "      <td>NaN</td>\n",
       "      <td>2014-06-10T00:00:00-05:00</td>\n",
       "      <td>Jun-14</td>\n",
       "      <td>Transfer</td>\n",
       "      <td>Partner</td>\n",
       "      <td>Bird</td>\n",
       "      <td>Unknown</td>\n",
       "      <td>2 weeks</td>\n",
       "      <td>Duck</td>\n",
       "      <td>Yellow/Black</td>\n",
       "    </tr>\n",
       "    <tr>\n",
       "      <th>2</th>\n",
       "      <td>A680858</td>\n",
       "      <td>5/25/14</td>\n",
       "      <td>NaN</td>\n",
       "      <td>2014-06-10T00:00:00-05:00</td>\n",
       "      <td>Jun-14</td>\n",
       "      <td>Transfer</td>\n",
       "      <td>Partner</td>\n",
       "      <td>Bird</td>\n",
       "      <td>Unknown</td>\n",
       "      <td>2 weeks</td>\n",
       "      <td>Duck</td>\n",
       "      <td>Yellow/Black</td>\n",
       "    </tr>\n",
       "    <tr>\n",
       "      <th>3</th>\n",
       "      <td>A680859</td>\n",
       "      <td>5/25/14</td>\n",
       "      <td>NaN</td>\n",
       "      <td>2014-06-10T00:00:00-05:00</td>\n",
       "      <td>Jun-14</td>\n",
       "      <td>Transfer</td>\n",
       "      <td>Partner</td>\n",
       "      <td>Bird</td>\n",
       "      <td>Unknown</td>\n",
       "      <td>2 weeks</td>\n",
       "      <td>Duck</td>\n",
       "      <td>Yellow/Black</td>\n",
       "    </tr>\n",
       "    <tr>\n",
       "      <th>4</th>\n",
       "      <td>A680860</td>\n",
       "      <td>5/25/14</td>\n",
       "      <td>NaN</td>\n",
       "      <td>2014-06-10T00:00:00-05:00</td>\n",
       "      <td>Jun-14</td>\n",
       "      <td>Transfer</td>\n",
       "      <td>Partner</td>\n",
       "      <td>Bird</td>\n",
       "      <td>Unknown</td>\n",
       "      <td>2 weeks</td>\n",
       "      <td>Duck</td>\n",
       "      <td>Yellow/Black</td>\n",
       "    </tr>\n",
       "  </tbody>\n",
       "</table>\n",
       "</div>"
      ],
      "text/plain": [
       "  Animal ID Date of Birth Name                   DateTime MonthYear  \\\n",
       "0   A680855       5/25/14  NaN  2014-06-10T00:00:00-05:00    Jun-14   \n",
       "1   A680857       5/25/14  NaN  2014-06-10T00:00:00-05:00    Jun-14   \n",
       "2   A680858       5/25/14  NaN  2014-06-10T00:00:00-05:00    Jun-14   \n",
       "3   A680859       5/25/14  NaN  2014-06-10T00:00:00-05:00    Jun-14   \n",
       "4   A680860       5/25/14  NaN  2014-06-10T00:00:00-05:00    Jun-14   \n",
       "\n",
       "  Outcome Type Outcome Subtype Animal Type Sex upon Outcome Age upon Outcome  \\\n",
       "0     Transfer         Partner        Bird          Unknown          2 weeks   \n",
       "1     Transfer         Partner        Bird          Unknown          2 weeks   \n",
       "2     Transfer         Partner        Bird          Unknown          2 weeks   \n",
       "3     Transfer         Partner        Bird          Unknown          2 weeks   \n",
       "4     Transfer         Partner        Bird          Unknown          2 weeks   \n",
       "\n",
       "  Breed         Color  \n",
       "0  Duck  Yellow/Black  \n",
       "1  Duck  Yellow/Black  \n",
       "2  Duck  Yellow/Black  \n",
       "3  Duck  Yellow/Black  \n",
       "4  Duck  Yellow/Black  "
      ]
     },
     "execution_count": 456,
     "metadata": {},
     "output_type": "execute_result"
    }
   ],
   "source": [
    "animals = pd.read_csv(\"project1.csv\")\n",
    "animals.head()"
   ]
  },
  {
   "cell_type": "code",
   "execution_count": 457,
   "id": "0f03efe2-6109-4c7b-aef1-99a2cd4595ed",
   "metadata": {},
   "outputs": [
    {
     "data": {
      "text/plain": [
       "(131165, 12)"
      ]
     },
     "execution_count": 457,
     "metadata": {},
     "output_type": "execute_result"
    }
   ],
   "source": [
    "animals.shape"
   ]
  },
  {
   "cell_type": "code",
   "execution_count": 458,
   "id": "c1e00842-497c-416f-a9cf-8cf641e3df76",
   "metadata": {},
   "outputs": [
    {
     "data": {
      "text/plain": [
       "1573980"
      ]
     },
     "execution_count": 458,
     "metadata": {},
     "output_type": "execute_result"
    }
   ],
   "source": [
    "animals.size"
   ]
  },
  {
   "cell_type": "code",
   "execution_count": 459,
   "id": "6daf32ee-38be-4bfb-a0d0-d5e87f38e144",
   "metadata": {},
   "outputs": [
    {
     "name": "stdout",
     "output_type": "stream",
     "text": [
      "<class 'pandas.core.frame.DataFrame'>\n",
      "RangeIndex: 131165 entries, 0 to 131164\n",
      "Data columns (total 12 columns):\n",
      " #   Column            Non-Null Count   Dtype \n",
      "---  ------            --------------   ----- \n",
      " 0   Animal ID         131165 non-null  object\n",
      " 1   Date of Birth     131165 non-null  object\n",
      " 2   Name              93658 non-null   object\n",
      " 3   DateTime          131165 non-null  object\n",
      " 4   MonthYear         131165 non-null  object\n",
      " 5   Outcome Type      131125 non-null  object\n",
      " 6   Outcome Subtype   65810 non-null   object\n",
      " 7   Animal Type       131165 non-null  object\n",
      " 8   Sex upon Outcome  131165 non-null  object\n",
      " 9   Age upon Outcome  131165 non-null  object\n",
      " 10  Breed             131165 non-null  object\n",
      " 11  Color             131165 non-null  object\n",
      "dtypes: object(12)\n",
      "memory usage: 12.0+ MB\n"
     ]
    },
    {
     "data": {
      "text/plain": [
       "17"
      ]
     },
     "execution_count": 459,
     "metadata": {},
     "output_type": "execute_result"
    }
   ],
   "source": [
    "animals.info()\n",
    "animals.duplicated().sum()"
   ]
  },
  {
   "cell_type": "code",
   "execution_count": 460,
   "id": "561f1b48-2a71-4334-bc3f-1a58653b26f8",
   "metadata": {},
   "outputs": [
    {
     "data": {
      "text/plain": [
       "Animal ID               0\n",
       "Date of Birth           0\n",
       "Name                37507\n",
       "DateTime                0\n",
       "MonthYear               0\n",
       "Outcome Type           40\n",
       "Outcome Subtype     65355\n",
       "Animal Type             0\n",
       "Sex upon Outcome        0\n",
       "Age upon Outcome        0\n",
       "Breed                   0\n",
       "Color                   0\n",
       "dtype: int64"
      ]
     },
     "execution_count": 460,
     "metadata": {},
     "output_type": "execute_result"
    }
   ],
   "source": [
    "animals.isnull().sum()"
   ]
  },
  {
   "cell_type": "code",
   "execution_count": 461,
   "id": "b5427821-379e-4152-9495-e7ad2fd0da30",
   "metadata": {},
   "outputs": [],
   "source": [
    "# All of the data types are objects and likely need to be converted to numerical values for valuable ML results. \n",
    "# There are also 17 duplicates among the rows and thus need to be treated. \n",
    "# I would convert Date of Birth, DateTime, MonthYear by first converting to datetime. Date of Birth can be converted to age.\n",
    "# Animal ID and Name don't really need to be changed and can be eliminated as all IDs are unique and Names don't help analysis.\n",
    "# Outcome Type, Outcome Subtype, Animal Type, Sex upon Outcome, Breed, and Color can be converted to categorial using One-hot encoding. \n",
    "# Lastly, Age Upon Outcome can be stripped to only a numerical value of days so everything becomes cohesive. \n",
    "animals.drop_duplicates(inplace=True, ignore_index=True)\n",
    "animals.duplicated().sum()\n",
    "# Lastly the Animal ID column, the Name column should be eliminated as they do not add any value to the analysis as each value are unique or don't affect the analysis numerically.\n",
    "animals.drop([\"Animal ID\"], axis = 1, inplace=True)\n",
    "animals.drop([\"Name\"], axis = 1, inplace=True)"
   ]
  },
  {
   "cell_type": "code",
   "execution_count": 462,
   "id": "3015b8fd-a753-4b0b-94fe-d3d21ab5b085",
   "metadata": {},
   "outputs": [
    {
     "name": "stdout",
     "output_type": "stream",
     "text": [
      "<class 'pandas.core.frame.DataFrame'>\n",
      "RangeIndex: 131148 entries, 0 to 131147\n",
      "Data columns (total 10 columns):\n",
      " #   Column            Non-Null Count   Dtype \n",
      "---  ------            --------------   ----- \n",
      " 0   Date of Birth     131148 non-null  object\n",
      " 1   DateTime          131148 non-null  object\n",
      " 2   MonthYear         131148 non-null  object\n",
      " 3   Outcome Type      131108 non-null  object\n",
      " 4   Outcome Subtype   65802 non-null   object\n",
      " 5   Animal Type       131148 non-null  object\n",
      " 6   Sex upon Outcome  131148 non-null  object\n",
      " 7   Age upon Outcome  131148 non-null  object\n",
      " 8   Breed             131148 non-null  object\n",
      " 9   Color             131148 non-null  object\n",
      "dtypes: object(10)\n",
      "memory usage: 10.0+ MB\n"
     ]
    }
   ],
   "source": [
    "animals.info()\n"
   ]
  },
  {
   "cell_type": "code",
   "execution_count": 463,
   "id": "9fea5ea0-1efd-4051-9a8d-ad7bc09bf8a4",
   "metadata": {},
   "outputs": [],
   "source": [
    "# Now after removing duplicated rows and useless columns the data types of each column should be converted to useful values.\n",
    "# Convert DOB to datetime then solve for the age given today's date.\n",
    "animals[\"Date of Birth\"] = pd.to_datetime(animals[\"Date of Birth\"], format = '%m/%d/%y')\n",
    "def calc_age(DOB):\n",
    "    today = date.today()\n",
    "    age = today.year - DOB.year\n",
    "    return age \n",
    "animals[\"Age\"] = animals[\"Date of Birth\"].apply(calc_age)\n",
    "animals.drop(\"Date of Birth\", axis = 1, inplace=True)\n",
    "\n",
    "# Convert MonthYear to datetime then extract month and then year.\n",
    "animals[\"MonthYear\"] = pd.to_datetime(animals[\"MonthYear\"], format = \"%b-%y\")\n",
    "def extract_month(Admit_time):\n",
    "    return Admit_time.month\n",
    "def extract_year(Admit_time):\n",
    "    return Admit_time.year\n",
    "animals[\"MonthAdmit\"] = animals[\"MonthYear\"].apply(extract_month)\n",
    "animals[\"YearAdmit\"] = animals[\"MonthYear\"].apply(extract_year)\n",
    "animals.drop(\"MonthYear\", axis = 1, inplace=True)\n",
    "             \n",
    "# Convert Age upon Outcome to days for consistent format. Assume 30 days in a month, 365 days in a year.\n",
    "def convertdays(OutAge):\n",
    "    number, category = OutAge.split()\n",
    "    number = int(number)                  \n",
    "    if category == \"days\":\n",
    "        multiplier = 1\n",
    "    elif category == \"weeks\":\n",
    "        multiplier = 7\n",
    "    elif category == \"months\":\n",
    "        multiplier = 30   \n",
    "    elif category == \"years\":\n",
    "        multiplier = 365  \n",
    "    else:\n",
    "        multiplier = 0  \n",
    "    return multiplier * number\n",
    "animals[\"Age upon Outcome (Days)\"] = animals[\"Age upon Outcome\"].apply(convertdays)\n",
    "animals.drop(\"Age upon Outcome\", axis=1, inplace=True)\n",
    "\n",
    "# Convert DateTime to datetime and extract the time as well as the day since month and year were already extracted\n",
    "# Code below was generated from Chat GPT \n",
    "animals[\"DateTime\"] = pd.to_datetime(animals[\"DateTime\"], format=\"mixed\", errors=\"coerce\", utc=True).dt.tz_convert(None)   \n",
    "\n",
    "# Now extract date of admit and time since month and year was already extracted from MonthYear\n",
    "def extract_day(Admit_time):\n",
    "    return Admit_time.day\n",
    "def extract_time(Admit_time):\n",
    "    return Admit_time.time()\n",
    "animals[\"DayAdmit\"] = animals[\"DateTime\"].apply(extract_day)\n",
    "animals[\"TimeAdmit\"] = animals[\"DateTime\"].apply(extract_time)\n",
    "# Convert time into \n",
    "\n",
    "animals.drop(\"DateTime\", axis = 1, inplace=True)"
   ]
  },
  {
   "cell_type": "code",
   "execution_count": 464,
   "id": "09a2e739-093d-46ec-876c-8469bbac2010",
   "metadata": {},
   "outputs": [
    {
     "name": "stdout",
     "output_type": "stream",
     "text": [
      "<class 'pandas.core.frame.DataFrame'>\n",
      "RangeIndex: 131148 entries, 0 to 131147\n",
      "Data columns (total 12 columns):\n",
      " #   Column                   Non-Null Count   Dtype \n",
      "---  ------                   --------------   ----- \n",
      " 0   Outcome Type             131108 non-null  object\n",
      " 1   Outcome Subtype          65802 non-null   object\n",
      " 2   Animal Type              131148 non-null  object\n",
      " 3   Sex upon Outcome         131148 non-null  object\n",
      " 4   Breed                    131148 non-null  object\n",
      " 5   Color                    131148 non-null  object\n",
      " 6   Age                      131148 non-null  int64 \n",
      " 7   MonthAdmit               131148 non-null  int64 \n",
      " 8   YearAdmit                131148 non-null  int64 \n",
      " 9   Age upon Outcome (Days)  131148 non-null  int64 \n",
      " 10  DayAdmit                 131148 non-null  int64 \n",
      " 11  TimeAdmit                131148 non-null  object\n",
      "dtypes: int64(5), object(7)\n",
      "memory usage: 12.0+ MB\n"
     ]
    },
    {
     "data": {
      "text/html": [
       "<div>\n",
       "<style scoped>\n",
       "    .dataframe tbody tr th:only-of-type {\n",
       "        vertical-align: middle;\n",
       "    }\n",
       "\n",
       "    .dataframe tbody tr th {\n",
       "        vertical-align: top;\n",
       "    }\n",
       "\n",
       "    .dataframe thead th {\n",
       "        text-align: right;\n",
       "    }\n",
       "</style>\n",
       "<table border=\"1\" class=\"dataframe\">\n",
       "  <thead>\n",
       "    <tr style=\"text-align: right;\">\n",
       "      <th></th>\n",
       "      <th>Outcome Type</th>\n",
       "      <th>Outcome Subtype</th>\n",
       "      <th>Animal Type</th>\n",
       "      <th>Sex upon Outcome</th>\n",
       "      <th>Breed</th>\n",
       "      <th>Color</th>\n",
       "      <th>Age</th>\n",
       "      <th>MonthAdmit</th>\n",
       "      <th>YearAdmit</th>\n",
       "      <th>Age upon Outcome (Days)</th>\n",
       "      <th>DayAdmit</th>\n",
       "      <th>TimeAdmit</th>\n",
       "    </tr>\n",
       "  </thead>\n",
       "  <tbody>\n",
       "    <tr>\n",
       "      <th>0</th>\n",
       "      <td>Transfer</td>\n",
       "      <td>Partner</td>\n",
       "      <td>Bird</td>\n",
       "      <td>Unknown</td>\n",
       "      <td>Duck</td>\n",
       "      <td>Yellow/Black</td>\n",
       "      <td>11</td>\n",
       "      <td>6</td>\n",
       "      <td>2014</td>\n",
       "      <td>14</td>\n",
       "      <td>10</td>\n",
       "      <td>05:00:00</td>\n",
       "    </tr>\n",
       "    <tr>\n",
       "      <th>1</th>\n",
       "      <td>Transfer</td>\n",
       "      <td>Partner</td>\n",
       "      <td>Bird</td>\n",
       "      <td>Unknown</td>\n",
       "      <td>Duck</td>\n",
       "      <td>Yellow/Black</td>\n",
       "      <td>11</td>\n",
       "      <td>6</td>\n",
       "      <td>2014</td>\n",
       "      <td>14</td>\n",
       "      <td>10</td>\n",
       "      <td>05:00:00</td>\n",
       "    </tr>\n",
       "    <tr>\n",
       "      <th>2</th>\n",
       "      <td>Transfer</td>\n",
       "      <td>Partner</td>\n",
       "      <td>Bird</td>\n",
       "      <td>Unknown</td>\n",
       "      <td>Duck</td>\n",
       "      <td>Yellow/Black</td>\n",
       "      <td>11</td>\n",
       "      <td>6</td>\n",
       "      <td>2014</td>\n",
       "      <td>14</td>\n",
       "      <td>10</td>\n",
       "      <td>05:00:00</td>\n",
       "    </tr>\n",
       "    <tr>\n",
       "      <th>3</th>\n",
       "      <td>Transfer</td>\n",
       "      <td>Partner</td>\n",
       "      <td>Bird</td>\n",
       "      <td>Unknown</td>\n",
       "      <td>Duck</td>\n",
       "      <td>Yellow/Black</td>\n",
       "      <td>11</td>\n",
       "      <td>6</td>\n",
       "      <td>2014</td>\n",
       "      <td>14</td>\n",
       "      <td>10</td>\n",
       "      <td>05:00:00</td>\n",
       "    </tr>\n",
       "    <tr>\n",
       "      <th>4</th>\n",
       "      <td>Transfer</td>\n",
       "      <td>Partner</td>\n",
       "      <td>Bird</td>\n",
       "      <td>Unknown</td>\n",
       "      <td>Duck</td>\n",
       "      <td>Yellow/Black</td>\n",
       "      <td>11</td>\n",
       "      <td>6</td>\n",
       "      <td>2014</td>\n",
       "      <td>14</td>\n",
       "      <td>10</td>\n",
       "      <td>05:00:00</td>\n",
       "    </tr>\n",
       "  </tbody>\n",
       "</table>\n",
       "</div>"
      ],
      "text/plain": [
       "  Outcome Type Outcome Subtype Animal Type Sex upon Outcome Breed  \\\n",
       "0     Transfer         Partner        Bird          Unknown  Duck   \n",
       "1     Transfer         Partner        Bird          Unknown  Duck   \n",
       "2     Transfer         Partner        Bird          Unknown  Duck   \n",
       "3     Transfer         Partner        Bird          Unknown  Duck   \n",
       "4     Transfer         Partner        Bird          Unknown  Duck   \n",
       "\n",
       "          Color  Age  MonthAdmit  YearAdmit  Age upon Outcome (Days)  \\\n",
       "0  Yellow/Black   11           6       2014                       14   \n",
       "1  Yellow/Black   11           6       2014                       14   \n",
       "2  Yellow/Black   11           6       2014                       14   \n",
       "3  Yellow/Black   11           6       2014                       14   \n",
       "4  Yellow/Black   11           6       2014                       14   \n",
       "\n",
       "   DayAdmit TimeAdmit  \n",
       "0        10  05:00:00  \n",
       "1        10  05:00:00  \n",
       "2        10  05:00:00  \n",
       "3        10  05:00:00  \n",
       "4        10  05:00:00  "
      ]
     },
     "execution_count": 464,
     "metadata": {},
     "output_type": "execute_result"
    }
   ],
   "source": [
    "animals.info()\n",
    "animals.head()"
   ]
  },
  {
   "cell_type": "code",
   "execution_count": 465,
   "id": "eec7c743-5435-4b18-87c7-559ac48141a5",
   "metadata": {},
   "outputs": [],
   "source": [
    "# Now I will convert everything else through One-hot encoding to make the categorical data numeric while replacing missing values\n",
    "# Group animals of the same type for replacing missing data with the mode\n",
    "animals['Outcome Type'] = animals.groupby(['Animal Type'])['Outcome Type'].transform(lambda x: x.fillna(x.mode()[0] if not x.mode().empty else 'Unknown'))\n",
    "animals['Outcome Type'] = animals['Outcome Type'].astype('category')\n",
    "animals = pd.get_dummies(animals, columns=['Outcome Type'], drop_first=True)\n",
    "\n",
    "animals['Outcome Subtype'] = animals.groupby(['Animal Type'])['Outcome Subtype'].transform(lambda x: x.fillna(x.mode()[0] if not x.mode().empty else 'Unknown'))\n",
    "animals['Outcome Subtype'] = animals['Outcome Subtype'].astype('category')\n",
    "animals = pd.get_dummies(animals, columns=['Outcome Subtype'], drop_first=True)\n",
    "\n",
    "animals['Animal Type'] = animals['Animal Type'].astype('category')\n",
    "animals['Sex upon Outcome'] = animals['Sex upon Outcome'].astype('category')\n",
    "animals['Breed'] = animals['Breed'].astype('category')\n",
    "animals['Color'] = animals['Color'].astype('category')\n",
    "\n",
    "categorical_cols = ['Animal Type', 'Sex upon Outcome', 'Breed', 'Color']\n",
    "for column in categorical_cols:\n",
    "    animals = pd.get_dummies(animals, columns=[column], drop_first=True)"
   ]
  },
  {
   "cell_type": "code",
   "execution_count": 466,
   "id": "7ceba259-3fb5-4fa6-ada7-6c90bf959843",
   "metadata": {},
   "outputs": [
    {
     "name": "stdout",
     "output_type": "stream",
     "text": [
      "<class 'pandas.core.frame.DataFrame'>\n",
      "RangeIndex: 131148 entries, 0 to 131147\n",
      "Columns: 3146 entries, Age to Color_Yellow/Yellow\n",
      "dtypes: bool(3140), int64(5), object(1)\n",
      "memory usage: 398.7+ MB\n"
     ]
    },
    {
     "data": {
      "text/plain": [
       "Age                          0\n",
       "MonthAdmit                   0\n",
       "YearAdmit                    0\n",
       "Age upon Outcome (Days)      0\n",
       "DayAdmit                     0\n",
       "                            ..\n",
       "Color_Yellow/Orange Tabby    0\n",
       "Color_Yellow/Red             0\n",
       "Color_Yellow/Tan             0\n",
       "Color_Yellow/White           0\n",
       "Color_Yellow/Yellow          0\n",
       "Length: 3146, dtype: int64"
      ]
     },
     "execution_count": 466,
     "metadata": {},
     "output_type": "execute_result"
    }
   ],
   "source": [
    "animals.info()\n",
    "animals.isnull().sum()"
   ]
  },
  {
   "cell_type": "code",
   "execution_count": null,
   "id": "98ad4b4a-87b8-45a5-be63-e4f6f1084464",
   "metadata": {},
   "outputs": [],
   "source": []
  },
  {
   "cell_type": "code",
   "execution_count": null,
   "id": "8c468c18-f361-4a4a-8dea-eba49ecad625",
   "metadata": {},
   "outputs": [],
   "source": []
  }
 ],
 "metadata": {
  "kernelspec": {
   "display_name": "Python 3 (ipykernel)",
   "language": "python",
   "name": "python3"
  },
  "language_info": {
   "codemirror_mode": {
    "name": "ipython",
    "version": 3
   },
   "file_extension": ".py",
   "mimetype": "text/x-python",
   "name": "python",
   "nbconvert_exporter": "python",
   "pygments_lexer": "ipython3",
   "version": "3.11.1"
  }
 },
 "nbformat": 4,
 "nbformat_minor": 5
}
